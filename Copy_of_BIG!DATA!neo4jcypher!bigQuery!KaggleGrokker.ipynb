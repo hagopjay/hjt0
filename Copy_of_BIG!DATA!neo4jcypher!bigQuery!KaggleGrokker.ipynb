{
  "nbformat": 4,
  "nbformat_minor": 0,
  "metadata": {
    "colab": {
      "provenance": [],
      "include_colab_link": true
    },
    "kernelspec": {
      "name": "python3",
      "display_name": "Python 3"
    },
    "language_info": {
      "name": "python"
    }
  },
  "cells": [
    {
      "cell_type": "markdown",
      "metadata": {
        "id": "view-in-github",
        "colab_type": "text"
      },
      "source": [
        "<a href=\"https://colab.research.google.com/github/hagopjay/hjt0/blob/master/Copy_of_BIG!DATA!neo4jcypher!bigQuery!KaggleGrokker.ipynb\" target=\"_parent\"><img src=\"https://colab.research.google.com/assets/colab-badge.svg\" alt=\"Open In Colab\"/></a>"
      ]
    },
    {
      "cell_type": "code",
      "execution_count": null,
      "metadata": {
        "id": "nxap4HwMevjy"
      },
      "outputs": [],
      "source": []
    },
    {
      "cell_type": "code",
      "source": [],
      "metadata": {
        "id": "4JVAJULNfmn3"
      },
      "execution_count": null,
      "outputs": []
    },
    {
      "cell_type": "markdown",
      "source": [
        "# BIG DATA!"
      ],
      "metadata": {
        "id": "CEuqTIhde8Df"
      }
    },
    {
      "cell_type": "code",
      "source": [],
      "metadata": {
        "id": "soR_wDEOezdO"
      },
      "execution_count": null,
      "outputs": []
    },
    {
      "source": [
        "from google.colab import drive\n",
        "drive.mount('/content/drive')"
      ],
      "cell_type": "code",
      "metadata": {
        "colab": {
          "base_uri": "https://localhost:8080/"
        },
        "id": "Ut3rg3mGfANn",
        "outputId": "065c386b-fe01-4a55-c88b-f350f3aec15e"
      },
      "execution_count": null,
      "outputs": [
        {
          "output_type": "stream",
          "name": "stdout",
          "text": [
            "Mounted at /content/drive\n"
          ]
        }
      ]
    },
    {
      "cell_type": "code",
      "source": [
        "!ls -la /content/drive/My\\ Drive/Colab\\ Notebooks\n"
      ],
      "metadata": {
        "colab": {
          "base_uri": "https://localhost:8080/"
        },
        "id": "-oHF7oedezf1",
        "outputId": "cd19a236-a998-408f-dd9a-283f0653abd0"
      },
      "execution_count": null,
      "outputs": [
        {
          "output_type": "stream",
          "name": "stdout",
          "text": [
            "total 230145\n",
            "-rw------- 1 root root  1780226 Mar 13 08:49 '3.13 Ask_Your_Web_Pages_En.ipynb'\n",
            "-rw------- 1 root root  2958728 Mar  3 05:09 'Another copy of how-to-segment-anything-with-sam (1).ipynb'\n",
            "-rw------- 1 root root  3241569 Mar  4 04:00 'Another copy of how-to-segment-anything-with-sam.ipynb'\n",
            "-rw------- 1 root root    82019 May 14 05:22 'Another copy of !!Stable Diffusion !!KLMC2 Animation.ipynb'\n",
            "-rw------- 1 root root   278552 Jul 11 11:01 'AnthropicVoyage!! guide.ipynb'\n",
            "-rw------- 1 root root   535985 Jul 17 17:47 '!Antrhopic RAG! guide.ipynb'\n",
            "-rw------- 1 root root     1036 Jul 19 00:55 'BIG!DATA!neo4jcypher!bigQuery!KaggleGrokker.ipynb'\n",
            "-rw------- 1 root root    17462 Apr 20 15:48 'Copy of 00_core.ipynb'\n",
            "-rw------- 1 root root    54305 Jun 24 09:02 'Copy !!!!!o!!f 01_Basic_Prompt_Structure.ipynb'\n",
            "-rw------- 1 root root    96533 Jun 24 06:35 'Copy of !1scone.ipynb'\n",
            "-rw------- 1 root root   324539 Apr 26 06:04 'Copy of 2023_01_16_hub_api_explore.ipynb'\n",
            "-rw------- 1 root root   704005 Mar 11 01:32 'Copy of 3D-Ken-Burns.ipynb'\n",
            "-rw------- 1 root root    15250 Jul 10 08:50 'Copy of !!Advanced Python Tutorial.ipynb'\n",
            "-rw------- 1 root root    15250 Jul  7 04:07 'Copy of Advanced Python Tutorial.ipynb'\n",
            "-rw------- 1 root root   124623 Jun 24 05:40 'Copy of !!agentchat_auto_feedback_from_code_execution.ipynb'\n",
            "-rw------- 1 root root   208070 Jul  8 18:18 'Copy of agentchat_!!!groupchat_RAG.ipynb'\n",
            "-rw------- 1 root root    10293 Jul  6 21:35 'Copy of agents.ipynb'\n",
            "-rw------- 1 root root    11046 May 10 04:34 'Copy of AI !!offoInterpretor_Filesystem Demo'\n",
            "-rw------- 1 root root    68865 Jul  7 04:07 'Copy of Amber.ipynb'\n",
            "-rw------- 1 root root    16084 Apr 26 02:11 'Copy of Authentication_with_OAuth (1).ipynb'\n",
            "-rw------- 1 root root    16025 Apr 26 00:16 'Copy of Authentication_with_OAuth (2).ipynb'\n",
            "-rw------- 1 root root    58321 Jun 19 07:45 'Copy of Authentication_with_OAuth.ipynb'\n",
            "-rw------- 1 root root    18126 May  5 11:11 'Copy of !!autogpt.ipynb'\n",
            "-rw------- 1 root root   917475 Jul  6 01:56 'Copy of !!!Basic_RAG_With_LlamaIndex.ipynb'\n",
            "-rw------- 1 root root   269120 Jul 10 08:50 'Copy of !!basics.ipynb'\n",
            "-rw------- 1 root root     9089 Jul 11 07:57 'Copy of BIG-bench Task Testing Notebook.ipynb'\n",
            "-rw------- 1 root root  4489566 Jul  6 02:22 'Copy of BigQuery Weather Data Analysis.ipynb'\n",
            "-rw------- 1 root root    17567 Feb 29 07:07 'Copy of BigQuery_with_Python.ipynb'\n",
            "-rw------- 1 root root   346187 Jun 19 07:45 'Copy of BioDEX_DSPy.ipynb'\n",
            "-rw------- 1 root root    80453 Jul  9 03:15 'Copy of building micrograd (1).ipynb'\n",
            "-rw------- 1 root root   834989 Jul 13 02:47 'Copy of building micrograd.ipynb'\n",
            "-rw------- 1 root root    58831 Mar  9 09:43 'Copy of cagliostro-colab-ui.ipynb'\n",
            "-rw------- 1 root root    27407 May  5 06:41 'Copy of camel_!!!demo.ipynb'\n",
            "-rw------- 1 root root   140521 Jul  7 04:57 'Copy of !!!charactercodex_llamafile.ipynb'\n",
            "-rw------- 1 root root   329746 Apr 26 01:13 'Copy of chat_with_Gemini (2).ipynb'\n",
            "-rw------- 1 root root    80686 Jul 11 05:32 'Copy of !!!Chromadb example'\n",
            "-rw------- 1 root root    88390 Mar 10 04:04 'Copy of chroma-indexing-and-rag-examples (1).ipynb'\n",
            "-rw------- 1 root root    42950 Jul  7 05:04 'Copy of chroma-indexing-and-rag-examples.ipynb'\n",
            "-rw------- 1 root root    17459 Jul  9 01:44 'Copy of !!!claude-llm-trainer'\n",
            "-rw------- 1 root root    18947 Jun 30 16:33 'Copy of claude_!!prompt_engineer.ipynb'\n",
            "-rw------- 1 root root    10147 Jul  8 06:34 'Copy of Claude_!!Researcher.ipynb'\n",
            "-rw------- 1 root root    38958 Jun 24 02:42 'Copy of !!!Cloudflare-demoREVERSE_PROXY.ipynb'\n",
            "-rw------- 1 root root     3745 Jun 24 02:44 'Copy of!! cloudflared Proxy.ipynb'\n",
            "-rw------- 1 root root    38752 Apr 22  2023 'Copy of Code_Challenge'\n",
            "-rw------- 1 root root     8079 Apr 26 00:36 'Copy of COLAB - Fulfillment Dialogflow.ipynb'\n",
            "-rw------- 1 root root     9227 May 10 05:02 'Copy of colab.ipynb'\n",
            "-rw------- 1 root root    32155 Jul  8 08:28 'Copy of colab_!!!!vllm_integration.ipynb'\n",
            "-rw------- 1 root root    32155 Jul  8 21:12 'Copy of colab_vllm_integration.ipynb'\n",
            "-rw------- 1 root root    30764 Jul  9 23:00 'Copy of Computer Vision.ipynb'\n",
            "-rw------- 1 root root    12878 Jun  4 21:39 'Copy of connecting-to-sql-databases.ipynb'\n",
            "-rw------- 1 root root    53037 Jun 14 03:28 'Copy of country_!!!club.ipynb'\n",
            "-rw------- 1 root root    15993 Mar 10 03:46 'Copy of Create data science web app with Streamlit library and Google Colab.ipynb'\n",
            "-rw------- 1 root root     5899 Mar 10 03:37 'Copy of Create_streamlit_app (1).ipynb'\n",
            "-rw------- 1 root root     7087 Mar 10 04:48 'Copy of Create_streamlit_app.ipynb'\n",
            "-rw------- 1 root root    14496 Jul  8 23:16 'Copy of crewai_sequential_YoutubeVideoSearchTool_quickstart.ipynb'\n",
            "-rw------- 1 root root    48161 Jul  9 02:53 'Copy of CrewAI-TutorialusesGemini.ipynb'\n",
            "-rw------- 1 root root   311439 Jul 10 02:31 'Copy of Demo MetaGPT.ipynb'\n",
            "-rw------- 1 root root     4628 Jun 24 04:00 'Copy of Devesh_Tutorial_Streamlit_GPT2.ipynb'\n",
            "-rw------- 1 root root   189934 Jul  8 21:02 'Copy of enhancing_rag_with_graph.ipynb'\n",
            "-rw------- 1 root root    29794 Jul  6 02:27 'Copy of Exa_RAG.ipynb'\n",
            "-rw------- 1 root root    55136 Jul  6 02:17 'Copy of Exa !!!Researcher'\n",
            "-rw------- 1 root root   182403 Jul 10 08:50 'Copy of !!Exploratory data Analysis.ipynb'\n",
            "-rw------- 1 root root    14256 Jul  8 05:51 'Copy of extracting_structured_json.ipynb'\n",
            "-rw------- 1 root root    98413 Apr 26 00:45 'Copy of faiss-usage.ipynb'\n",
            "-rw------- 1 root root    40433 Feb 29 06:43 'Copy of fast_stable_diffusion_AUTOMATIC1111.ipynb'\n",
            "-rw------- 1 root root    10176 Jul  7 04:08 'Copy of Function_calling_config.ipynb'\n",
            "-rw------- 1 root root    48654 Jun 26 13:47 'Copy of Gemini_!!agents.ipynb'\n",
            "-rw------- 1 root root   147043 Mar  9 08:25 'Copy of gemma-2b-4bit-instruct.ipynb'\n",
            "-rw------- 1 root root    72701 Jul  7 05:23 'Copy of gemma_chat_rag.ipynb'\n",
            "-rw------- 1 root root    69679 Jul 10 04:44 'Copy of !!!!getting_started.ipynb'\n",
            "-rw------- 1 root root    70049 Jul  6 02:22 'Copy of Getting started with BigQuery'\n",
            "-rw------- 1 root root   525126 Apr 25 03:39 'Copy of getting_started_with_vision.ipynb'\n",
            "-rw------- 1 root root    29741 Mar 15 07:51 'Copy of ggcd (1).ipynb'\n",
            "-rw------- 1 root root    52583 Jun 14 00:47 'Copy of ggcd.ipynb'\n",
            "-rw------- 1 root root     1487 Jul 16 02:35 'Copy of !!!Golang Notebook.ipynb'\n",
            "-rw------- 1 root root    10844 Jul 16 02:36 'Copy of Gola!!!ng Notebook.ipynb'\n",
            "-rw------- 1 root root   100237 May 10 05:36 'Copy of gpt-2-!playground_.ipynb'\n",
            "-rw------- 1 root root    48097 May 10 05:36 'Copy of gpt-dev.ipynb'\n",
            "-rw------- 1 root root    48097 Jul 11 11:46 'Copy of !!!gpt-devKarpathynanoGPT.ipynb'\n",
            "-rw------- 1 root root    13725 Mar 10 03:17 'Copy of Gradient character fine-tune yt.ipynb'\n",
            "-rw------- 1 root root  1602117 Jul  8 21:02 'Copy of Graph_RAG_LlamaIndex_Workshop.ipynb'\n",
            "-rw------- 1 root root   138557 Jul  8 08:18 'Copy of !!HFcliskycamp2023.ipynb'\n",
            "-rw------- 1 root root     8902 Mar 18 04:31 'Copy of high_performance_simulation_with_kubernetes (1).ipynb'\n",
            "-rw------- 1 root root    27162 Mar 18 04:36 'Copy of high_performance_simulation_with_kubernetes.ipynb'\n",
            "-rw------- 1 root root   135876 Jun 30 07:22 'Copy of hotpotqa_with_assertions.ipynb'\n",
            "-rw------- 1 root root    27493 Jun 19 20:30 'Copy of huggingface_wav2vec_whisper.ipynb'\n",
            "-rw------- 1 root root    16241 Jul  7 04:09 'Copy of hyperparameter_tuning_with_hparams.ipynb'\n",
            "-rw------- 1 root root  2032501 Apr 26 15:41 'Copy of intro_gemini_python.ipynb'\n",
            "-rw------- 1 root root   826007 Apr 26 06:15 'Copy of intro.ipynb'\n",
            "-rw------- 1 root root  1778613 Mar  9 08:49 'Copy of intro_multimodal_use_cases.ipynb'\n",
            "-rw------- 1 root root   269463 Jun 23 23:19 'Copy of InvokeAI-Colab.ipynb'\n",
            "-rw------- 1 root root     9941 Jun 24 02:48 'Copy of KoboldAI Server - Cloudflare - GPTNeo-2.7B-Horni.ipynb'\n",
            "-rw------- 1 root root    22519 Mar 10 00:50 'Copy of LangChain.ipynb'\n",
            "-rw------- 1 root root    18825 May 28 02:04 'Copy of langgraph_crag_mistral'\n",
            "-rw------- 1 root root    23477 Mar 15 19:42 'Copy of Learning_with_Gemini_and_ChatGPT.ipynb'\n",
            "-rw------- 1 root root    15826 Jun 24 08:14 'Copy of LEDBill.ipynb'\n",
            "-rw------- 1 root root   233684 May 13 22:48 'Copy of llama-2-70b-chat-agent.ipynb'\n",
            "-rw------- 1 root root   288127 Mar 13 10:12 'Copy of Llama 2 Fine-Tuning using QLora'\n",
            "-rw------- 1 root root   115096 Mar 11 09:11 'Copy of Llama 2 Fine-Tuning using QLora (1)'\n",
            "-rw------- 1 root root   193954 Jul  7 05:39 'Copy of llama3_rag.ipynb'\n",
            "-rw------- 1 root root   138597 Mar  9 09:09 'Copy of LLaMA-Factory-Tutorial (1).ipynb'\n",
            "-rw------- 1 root root   190664 Mar 10 00:49 'Copy of LLaMA-Factory-Tutorial.ipynb'\n",
            "-rw------- 1 root root    14104 Jun 19 06:18 'Copy of load-!!cora-into-neo4j.ipynb'\n",
            "-rw------- 1 root root    25589 Mar 15 07:53 'Copy of load-cora-into-neo4j.ipynb'\n",
            "-rw------- 1 root root   489689 Jul  7 04:08 'Copy of Market_a_Jet_Backpack.ipynb'\n",
            "-rw------- 1 root root     7102 Apr 26 01:43 'Copy of Models.ipynb'\n",
            "-rw------- 1 root root    52434 Apr 26 05:02 'Copy of multi_agent_llama3.ipynb'\n",
            "-rw------- 1 root root    24336 Jun  4 21:39 'Copy of mysql_python_connector.ipynb'\n",
            "-rw------- 1 root root    18079 Jul 10 04:45 'Copy of neural_search_demo.ipynb'\n",
            "-rw------- 1 root root   182079 Jul 10 08:46 'Copy of Ollama CODA llaMA'\n",
            "-rw------- 1 root root   685503 Jun 23 20:23 'Copy of Ollama!! CODA llaMA'\n",
            "-rw------- 1 root root   352603 Jul  8 04:54 'Copy of !!OpenAI_Whisper_ASR_Demo.ipynb'\n",
            "-rw------- 1 root root  4489529 May 10 04:33 'Copy of !!!Open Interpreter Demo'\n",
            "-rw------- 1 root root    22664 Jul  6 21:37 'Copy of postgres-!other-llm-other-vectordb.ipynb'\n",
            "-rw------- 1 root root    12439 Jul 11 11:46 'Copy of !!PrivateGPT.ipynb'\n",
            "-rw------- 1 root root   240345 Jul  8 05:46 'Copy of prompt_!!customization_for_Anthropic.ipynb'\n",
            "-rw------- 1 root root  4244956 Apr 26 01:53 'Copy of python.ipynb'\n",
            "-rw------- 1 root root  2649291 Jul 10 04:19 'Copy of qdrant.ipynb'\n",
            "-rw------- 1 root root    19832 Jun 30 08:09 'Copy of quiz_assertions.ipynb'\n",
            "-rw------- 1 root root    52772 Jul 11 12:26 'Copy !!!of rag_from_scratch_10_and_11.ipynb'\n",
            "-rw------- 1 root root   151110 Jul 11 12:47 'Copy of rag_from_scratch_12_to_14.ipynb'\n",
            "-rw------- 1 root root    46953 Jul 11 12:44 'Copy of rag_from_scratch_15_to_18.ipynb'\n",
            "-rw------- 1 root root    52481 Jul 11 12:39 'Copy of rag_from_!!!scratch_1_to_4.ipynb'\n",
            "-rw------- 1 root root    92097 Jul 11 12:18 'Copy of rag!!!_from_scratch_5_to_9.ipynb'\n",
            "-rw------- 1 root root   196804 Jul 11 11:51 'Copy of !!!RAG.ipynb'\n",
            "-rw------- 1 root root   756207 Jul  6 01:47 'Copy of RAG_L300_Part_1_Vector_Similarity.ipynb'\n",
            "-rw------- 1 root root    36869 Jun 14 06:02 'Copy of ra!g-openai-qdrant!!docker-blocker----.ipynb'\n",
            "-rw------- 1 root root   287372 Jul  7 00:12 'Copy of !!!rag_with_hugging_face_gemma_mongodb.ipynb'\n",
            "-rw------- 1 root root    35173 Jul  8 23:08 'Copy of !!RAGwithMultiAgentDebate.ipynb'\n",
            "-rw------- 1 root root    36723 Apr 26 03:40 'Copy of redis.ipynb'\n",
            "-rw------- 1 root root    20816 Jul  6 02:17 'Copy of Search !!!with LLMs: Recent News Summarizer'\n",
            "-rw------- 1 root root    12788 Jun 19 07:45 'Copy of Semantic search with FAISS !(TensorFlow)'\n",
            "-rw------- 1 root root     1766 Jul  8 04:07 'Copy of Snippets: Importing libraries'\n",
            "-rw------- 1 root root   190202 May 20 22:21 'Copy of Stability_AI_Easy_Diffusion (1).ipynb'\n",
            "-rw------- 1 root root   190202 May 21 07:06 'Copy of Stability_AI_Easy_Diffusion.ipynb'\n",
            "-rw------- 1 root root  4052456 Feb 29 06:44 'Copy of stable_diffusion.ipynb'\n",
            "-rw------- 1 root root 83244618 Jul  8 05:26 'Copy of Stable_Image_API_Public (1).ipynb'\n",
            "-rw------- 1 root root 83244618 Jul  8 05:26 'Copy of Stable_Image_API_Public.ipynb'\n",
            "-rw------- 1 root root    13583 Apr 26 15:12 'Copy of Supercharged Searching on the 🤗 Hub.ipynb'\n",
            "-rw------- 1 root root     8562 Jul  6 21:42 'Copy of System_instructions.ipynb'\n",
            "-rw------- 1 root root    12972 Jul  8 19:53 'Copy of text_embedding_api_semantic_search_with_scann.ipynb'\n",
            "-rw------- 1 root root   986422 Apr 20 06:11 'Copy of Thorsten-DE_DDC-TTS_and_MultiBand-MelGAN_Example.ipynb'\n",
            "-rw------- 1 root root     8806 Jul  3 08:53 'Copy of ThreeJS.ipynb'\n",
            "-rw------- 1 root root   139988 Jul 13 03:56 'Copy of Tokenization.ipynb'\n",
            "-rw------- 1 root root   510415 Jun 19 07:45 'Copy of Topic models with !Gensim.ipynb'\n",
            "-rw------- 1 root root    68613 Jul  8 05:07 'Copy of Transcribe and Translate with OpenAI Whisper'\n",
            "-rw------- 1 root root    37250 Jun 19 07:45 'Copy of tree_of_thought.ipynb'\n",
            "-rw------- 1 root root    41301 Apr 26 02:51 'Copy of Tuning.ipynb'\n",
            "-rw------- 1 root root    48452 Mar  9 08:27 'Copy of tuning_quickstart_python (1).ipynb'\n",
            "-rw------- 1 root root    38638 Mar  9 21:04 'Copy of tuning_quickstart_python.ipynb'\n",
            "-rw------- 1 root root    26060 Apr 20 15:49 'Copy of tutorial_01.ipynb'\n",
            "-rw------- 1 root root   167743 Apr 20 15:49 'Copy of tutorial_02.ipynb'\n",
            "-rw------- 1 root root     8940 Jul 18 23:50 'Copy of Tutorial-Examples'\n",
            "-rw------- 1 root root    18366 Jul  8 19:53 'Copy of TUTORIAL: SemanticKernel+MongoDB.ipynb'\n",
            "-rw------- 1 root root    21992 Apr 26 06:54 'Copy of tweets_assertions.ipynb'\n",
            "-rw------- 1 root root   152847 Jun 26 13:47 'Copy of two_agent_debate_tools.ipynb'\n",
            "-rw------- 1 root root    84330 Jul 10 09:23 'Copy of!! unstructured_weaviate.ipynb'\n",
            "-rw------- 1 root root  4237358 Jul 10 08:50 'Copy of Using Colab to Get More Out of BigQuery.ipynb'\n",
            "-rw------- 1 root root     7836 Jun 26 06:22 'Copy of vector_hello_world.ipynb'\n",
            "-rw------- 1 root root   888968 Jul  9 23:00 'Copy of Vision_Transformer_Tutorial.ipynb'\n",
            "-rw------- 1 root root   153889 Jun 24 00:40 'Copy of !!visualize_rag_gpt-4o-!plsWork!tutorial.ipynb'\n",
            "-rw------- 1 root root    37904 Jul  8 21:12 'Copy of vllm_inference_engine.ipynb'\n",
            "-rw------- 1 root root    13403 Jun 19 20:30 'Copy of Whisper in Transformers.ipynb'\n",
            "-rw------- 1 root root   571613 Jul  6 02:26 'Copy of !!!witter-Pulse-Checker.ipynb'\n",
            "-rw------- 1 root root    21400 May 14 05:26 'Copy of Wonder3D_!!colab.ipynb'\n",
            "-rw------- 1 root root   804719 Jun 13 22:54 'Copy of wordnet-!!grokk.ipynb'\n",
            "-rw------- 1 root root   564622 Jun 19 07:45 'DSPy1haggos_Copy of intro.ipynb'\n",
            "-rw------- 1 root root    38563 Jun 21 07:09 'DSpy!!Claude.ipynb'\n",
            "-rw------- 1 root root   356252 May  5 06:39  earlyAbiscreen2code.ipynb\n",
            "-rw------- 1 root root   894988 Jun 24 16:21 '!fAPIendpoint-!grokk.ipynb'\n",
            "-rw------- 1 root root    82087 Jul 15 08:25 'fAPIendpts!!.ipynb'\n",
            "-rw------- 1 root root  2024994 Apr 26 00:49  gold_intro_gemini_python.ipynb\n",
            "-rw------- 1 root root  1765776 Jul 16 03:10 '!!!GoNB!!! Demo.ipynb'\n",
            "-rw------- 1 root root   416602 Jun 19 23:31 'haggopf !!!Knowledge Graph Builder'\n",
            "-rw------- 1 root root   483792 Apr 20 06:29 'haggopsiqn TTS_PWGAN_Example.ipynb'\n",
            "-rw------- 1 root root    15250 Apr 20 03:49 'haggops-of Advanced Python Tutorial.ipynb'\n",
            "-rw------- 1 root root    75996 Apr 16 05:04  haggoscolab_vllm_integration.ipynb\n",
            "-rw------- 1 root root    68352 Apr 20 06:06 'haggosiaf DDC-TTS_Universal-Fullband-MelGAN_MAI-karen_savage_ES.ipynb'\n",
            "-rw------- 1 root root    12292 May  5 06:38 'haggosianof Lang!Chain.ipynb'\n",
            "-rw------- 1 root root    11862 Apr 20 06:15 'haggos iris-classifier-finished.ipynb'\n",
            "-rw------- 1 root root    71840 Apr  7 02:42 'haggos of ml-agents.ipynb'\n",
            "-rw------- 1 root root     8015 Apr 16 07:30 'haggosof streaming_inference_hf.ipynb'\n",
            "-rw------- 1 root root   148979 Apr 21 02:58 'haggos vllm_inference_engine.ipynb'\n",
            "-rw------- 1 root root    85580 Jul 12 21:32 'haskell!.ipynb'\n",
            "-rw------- 1 root root    43854 Apr  4 05:06 'hggosDSpy_Copy of quiz_assertions.ipynb'\n",
            "-rw------- 1 root root    40107 Jul 10 02:07 'LanceDC Agentic!!!!main.ipynb'\n",
            "-rw------- 1 root root   393008 Jul 15 00:46  maestro2.ipynb\n",
            "-rw------- 1 root root  1131515 Jul 13 03:42 '!!!makemore_part1_bigrams.ipynb'\n",
            "-rw------- 1 root root   339689 Jul 10 06:30 'metagpt!!!_quickstart.ipynb'\n",
            "-rw------- 1 root root   219196 Jul 15 23:16 '!!NewCOPY-Type!sript.ipynb'\n",
            "-rw------- 1 root root    22649 Jul 11 11:09 'openInterp!!AI Filesystem Demo'\n",
            "-rw------- 1 root root   120018 Jun 26 08:20 'productionizingSu!!p!abase.ipynb'\n",
            "-rw------- 1 root root   157863 Jun 21 07:06 'ragDspy!Fapi.ipynb'\n",
            "-rw------- 1 root root   128999 May 10 05:01  screen2code2emilwallner.ipynb\n",
            "-rw------- 1 root root   115496 Jul 18 21:29  supabase.ipynb\n",
            "-rw------- 1 root root   219087 Jul 14 08:33 'Type!sript.ipynb'\n",
            "-rw------- 1 root root      306 Mar 13 01:12  Untitled\n",
            "-rw------- 1 root root    15937 Mar  7 06:27  Untitled0.ipynb\n",
            "-rw------- 1 root root      306 Apr 20  2023 'Untitled (1)'\n",
            "-rw------- 1 root root      324 Apr 16 04:30  Untitled1.ipynb\n",
            "-rw------- 1 root root   269662 Jul  8 08:33 'V!!!VLLMcliskycamp2023.ipynb'\n",
            "-rw------- 1 root root     1946 Jul 17 06:09  wikipedia.ipynb\n",
            "-rw------- 1 root root   850972 Jun 19 17:34 'wordnet-!!grokk.ipynb'\n"
          ]
        }
      ]
    },
    {
      "cell_type": "code",
      "source": [],
      "metadata": {
        "id": "fNwS-Ir3eziU"
      },
      "execution_count": null,
      "outputs": []
    },
    {
      "cell_type": "code",
      "source": [],
      "metadata": {
        "id": "J1IdnCgbezl1"
      },
      "execution_count": null,
      "outputs": []
    }
  ]
}